{
  "nbformat": 4,
  "nbformat_minor": 0,
  "metadata": {
    "colab": {
      "name": "Markdown_&_LaTeX.ipynb",
      "provenance": [],
      "collapsed_sections": [
        "fR74Yg3L5d_I"
      ],
      "toc_visible": true
    },
    "kernelspec": {
      "name": "python3",
      "display_name": "Python 3"
    },
    "language_info": {
      "name": "python"
    }
  },
  "cells": [
    {
      "cell_type": "markdown",
      "source": [
        "- **Markdown** which is a *markup language* that is a superset of **HTML**.\n",
        "- **Latex** to render *mathematical* and scientific writing"
      ],
      "metadata": {
        "id": "dhtui2BWDbyX"
      }
    },
    {
      "cell_type": "markdown",
      "source": [
        "<center>\n",
        "        <a href=\"https://colab.research.google.com/drive/12eqjwAWJPGLEYovUB38mX5bcPnqrXrve#scrollTo=MT2QDFsz5jzY\" target=\"_parent\">\n",
        "        <img src=\"https://colab.research.google.com/assets/colab-badge.svg\" alt=\"Open In Colab\"/>\n",
        "        </a>\n",
        "</center>\n",
        "\n",
        "# <center><b>Markdown</b></center>"
      ],
      "metadata": {
        "id": "MT2QDFsz5jzY"
      }
    },
    {
      "cell_type": "markdown",
      "source": [
        "## 1. **Images**\n",
        "\n",
        "```markdown\n",
        "![GitHub Logo](/images/logo.png)\n",
        "Format: ![Alt Text](url)\n",
        "```\n",
        "![Github Logo](https://flyclipart.com/thumb2/rendering-notebooks-on-github-jupyter-blog-813503.png)"
      ],
      "metadata": {
        "id": "fR74Yg3L5d_I"
      }
    },
    {
      "cell_type": "markdown",
      "source": [
        "Responsive image\n",
        "```html\n",
        "<img src=\"my-URL\" class=\"img-fluid\" style=\"max-width: 100%; height: auto;\">\n",
        "```"
      ],
      "metadata": {
        "id": "LZ1rSiLypVzo"
      }
    },
    {
      "cell_type": "markdown",
      "source": [
        "```html\n",
        "<p align='center'>\n",
        "  <a href=\"#\">\n",
        "    <img src='' width=800px height=220px alt=\"\">\n",
        "  </a>\n",
        "</p>\n",
        "```\n",
        "\n",
        "<p align='center'>\n",
        "  <a href=\"#\">\n",
        "    <img src='' width=800px height=220px alt=\"\">\n",
        "  </a>\n",
        "</p>"
      ],
      "metadata": {
        "id": "t4v5FeMprXhU"
      }
    },
    {
      "cell_type": "markdown",
      "source": [
        "## 2. **Links**\n",
        "\n",
        "```markdown\n",
        "http://github.com - automatic!\n",
        "[GitHub](http://github.com)\n",
        "```\n",
        "\n",
        "[GitHub](http://github.com)"
      ],
      "metadata": {
        "id": "K-OX-vLb60IE"
      }
    },
    {
      "cell_type": "markdown",
      "source": [
        "## 3. **List**\n",
        "\n",
        "\n"
      ],
      "metadata": {
        "id": "w-QYZMNm7y1a"
      }
    },
    {
      "cell_type": "markdown",
      "source": [
        "### a. **Unordered**\n",
        "\n",
        "```markdown\n",
        "* Item 1\n",
        "* Item 2\n",
        "    * Item 2.1\n",
        "        * Item 2.1.1\n",
        "```\n",
        "* Item 1\n",
        "* Item 2\n",
        "    * Item 2.1\n",
        "        * Item 2.1.1"
      ],
      "metadata": {
        "id": "_EC93c388Yj7"
      }
    },
    {
      "cell_type": "markdown",
      "source": [
        "### b. **Ordered**\n",
        "\n",
        "1. Item 1\n",
        "2. Item 2\n",
        "3. Item 3\n",
        "    * Item 3a\n",
        "    * Item 3b"
      ],
      "metadata": {
        "id": "DITCk2Np8oDa"
      }
    },
    {
      "cell_type": "markdown",
      "source": [
        "## 4. **Heading**\n",
        "\n",
        "```markdown\n",
        "# Heading 1\n",
        "## Heading 2\n",
        "### Heading 3\n",
        "#### Heading 4\n",
        "##### Heading 5\n",
        "###### Heading 6\n",
        "```\n",
        "\n",
        "HTML equivalent:\n",
        "\n",
        "```html\n",
        "<h1>Heading 1</h1>\n",
        "<h2>Heading 2</h2>\n",
        "<h3>Heading 3</h3>\n",
        "<h4>Heading 4</h4>\n",
        "<h5>Heading 5</h5>\n",
        "<h6>Heading 6</h6>\n",
        "```\n",
        "<h1>Heading 1</h1>\n",
        "<h2>Heading 2</h2>\n",
        "<h3>Heading 3</h3>\n",
        "<h4>Heading 4</h4>\n",
        "<h5>Heading 5</h5>\n",
        "<h6>Heading 6</h6>\n",
        "\n",
        "\n",
        "\n"
      ],
      "metadata": {
        "id": "3ObeZoMz843C"
      }
    },
    {
      "cell_type": "markdown",
      "source": [
        "```html\n",
        "<ol>\n",
        "<li>Item 1</li>\n",
        "<li>Item 2 ( we can type 1. and the markdown will automatically numerate them) </li>\n",
        "<li><p>First Item</p>\n",
        "<ul>\n",
        "<li>Nested item 1</li>\n",
        "<li>Nested item 2</li>\n",
        "<ol>\n",
        "<li>Keep going</li>\n",
        "<li>Yes</li>\n",
        "</ol>\n",
        "</li>\n",
        "</ul>\n",
        "</li>\n",
        "<li><p>Second Item</p>\n",
        "</li>\n",
        "<li>First Item</li>\n",
        "<li>Second Item</li>\n",
        "</ol>\n",
        "```\n",
        "<ol>\n",
        "<li>Item 1</li>\n",
        "<li>Item 2 ( we can type 1. and the markdown will automatically numerate them) </li>\n",
        "<li><p>First Item</p>\n",
        "<ul>\n",
        "<li>Nested item 1</li>\n",
        "<li>Nested item 2</li>\n",
        "<ol>\n",
        "<li>Keep going</li>\n",
        "<li>Yes</li>\n",
        "</ol>\n",
        "</li>\n",
        "</ul>\n",
        "</li>\n",
        "<li><p>Second Item</p>\n",
        "</li>\n",
        "<li>First Item</li>\n",
        "<li>Second Item</li>\n",
        "</ol>"
      ],
      "metadata": {
        "id": "MwNI66sDHLK_"
      }
    },
    {
      "cell_type": "markdown",
      "source": [
        "## 5. **Paragraphs**\n",
        "\n",
        "```html\n",
        "<p>This is a paragraph of text.</p>\n",
        "<p>This is another paragraph of text.</p>\n",
        "```\n",
        "\n",
        "<p>This is a paragraph of text.</p>\n",
        "<p>This is another paragraph of text.</p>"
      ],
      "metadata": {
        "id": "gKPCSIhmEflD"
      }
    },
    {
      "cell_type": "markdown",
      "source": [
        "## 6. **Line breaks**\n",
        "```html\n",
        "<p>This is a text. <br> This is another text.</p>\n",
        "```\n",
        "\n",
        "<p>This is a text. <br> This is another text.</p>"
      ],
      "metadata": {
        "id": "bLWYgOHeFeOX"
      }
    },
    {
      "cell_type": "markdown",
      "source": [
        "## 7. **Emphasis**\n",
        "\n",
        "```markdown\n",
        "*This text will be italic*\n",
        "\n",
        "_This will also be italic_\n",
        "\n",
        "**This text will be bold**\n",
        "\n",
        "__This will also be bold__\n",
        "\n",
        "*You **can** combine them*\n",
        "```\n",
        "\n",
        "- *This text will be italic*\n",
        "- _This will also be italic_\n",
        "- **This text will be bold**\n",
        "- __This will also be bold__\n",
        "- *You **can** combine them*\n",
        "\n",
        "\n",
        "```html\n",
        "<p>Emphasis, aka italics, with <i> i or em tag</i></p>\n",
        "<p>Strong emphasis, aka bold, <b>b or strong tag</b></p>\n",
        "<p>Combined emphasis with <b><i> both tags </b></i></p>\n",
        "<p>Strikethrough uses <strike> strike tag </strike> </p>\n",
        "```\n",
        "<p>Emphasis, aka italics, with <i> i or em tag</i></p>\n",
        "<p>Strong emphasis, aka bold, <b>b or strong tag</b></p>\n",
        "<p>Combined emphasis with <b><i> both tags </b></i></p>\n",
        "<p>Strikethrough uses <strike> strike tag </strike> </p>"
      ],
      "metadata": {
        "id": "rKtcs4FB9plq"
      }
    },
    {
      "cell_type": "markdown",
      "source": [
        "## 8. **Blockquotes**\n",
        "\n",
        "```markdown\n",
        "As Grace Hopper said:\n",
        "> I’ve always been more interested\n",
        "> in the future than in the past.\n",
        "```\n",
        "As Grace Hopper said:\n",
        "> I’ve always been more interested\n",
        "> in the future than in the past."
      ],
      "metadata": {
        "id": "iDv8ROu09u8p"
      }
    },
    {
      "cell_type": "markdown",
      "source": [
        "Blockquote using HTML\n",
        "\n",
        "```html\n",
        "<blockquote>\n",
        "    <p>This is a blockquote.</p>\n",
        "    <p>This is part of the same blockquote.</p>\n",
        "</blockquote>\n",
        "\n",
        "<p>Quote break</p>\n",
        "\n",
        "<blockquote>\n",
        "    <p>This is a new blockquote.</p>\n",
        "</blockquote>\n",
        "```\n",
        "\n",
        "<blockquote>\n",
        "    <p>This is a blockquote.</p>\n",
        "    <p>This is part of the same blockquote.</p>\n",
        "</blockquote>\n",
        "\n",
        "<p>Quote break</p>\n",
        "\n",
        "<blockquote>\n",
        "    <p>This is a new blockquote.</p>\n",
        "</blockquote>"
      ],
      "metadata": {
        "id": "Wdamy2fxz90c"
      }
    },
    {
      "cell_type": "markdown",
      "source": [
        "## 9. **Backslash Escape**\n",
        "\n",
        "```markdown\n",
        "\\*literal asterisks\\*\n",
        "```\n",
        "\n",
        "\\*literal asterisks\\*"
      ],
      "metadata": {
        "id": "P3ILN-k09u_3"
      }
    },
    {
      "cell_type": "markdown",
      "source": [
        "## 10. **Code and Syntax Highlighting**\n",
        "\n",
        "```javascript\n",
        "// JavaScript\n",
        "function test() {\n",
        "console.log(\"look ma’, no spaces\");\n",
        "}\n",
        "```\n",
        "\n",
        "$\\color{red}{\\textbf{Note}}$\n",
        "\n",
        "- Single line comments start with //.\n",
        "- Multi-line comments start with /* and end with */.\n",
        "\n",
        "```python\n",
        "# Python\n",
        "print(\"Basic Programs\")\n",
        "s = input(\"Enter your name\")\n",
        "print(\"Hi\" + s)\n",
        "```\n",
        "\n"
      ],
      "metadata": {
        "id": "B1ZTlVSe9vCX"
      }
    },
    {
      "cell_type": "markdown",
      "source": [
        "## 11. **Task Lists**\n",
        "\n",
        "```markdown\n",
        "- [x] this is a complete item\n",
        "- [ ] this is an incomplete item\n",
        "- [x] @mentions, #refs, [links](),\n",
        "  **formatting**, and <del>tags</del>\n",
        "supported\n",
        "- [x] list syntax required (any unordered or ordered list supported)\n",
        "\n",
        "```\n",
        "\n",
        "- [x] this is a complete item\n",
        "- [ ] this is an incomplete item\n",
        "- [x] @mentions, #refs, [links](),\n",
        "  **formatting**, and <del>tags</del>\n",
        "supported\n",
        "- [x] list syntax required (any unordered or ordered list supported)\n"
      ],
      "metadata": {
        "id": "5SBBojn89vEW"
      }
    },
    {
      "cell_type": "markdown",
      "source": [
        "## 12. **Tables**\n",
        "\n",
        "```markdown\n",
        "First Header | Second Header\n",
        "------------ | -------------\n",
        "Content cell 1 | Content cell 2\n",
        "Content column 1 | Content column 2\n",
        "Content column 1 | Content column 2\n",
        "Content column 1 | Content column 2\n",
        "```\n",
        "\n",
        "First Header | Second Header\n",
        "------------ | -------------\n",
        "Content cell 1 | Content cell 2\n",
        "Content column 1 | Content column 2\n",
        "Content column 1 | Content column 2\n",
        "Content column 1 | Content column 2"
      ],
      "metadata": {
        "id": "c5ujQnM59vGo"
      }
    },
    {
      "cell_type": "markdown",
      "source": [
        "Table Using HTML\n",
        "\n",
        "```html\n",
        "<table>\n",
        "    <thead>\n",
        "        <tr>\n",
        "            <th>Id</th>\n",
        "            <th>Label</th>\n",
        "            <th>Price</th>\n",
        "        </tr>\n",
        "    </thead>\n",
        "    <tbody>\n",
        "        <tr>\n",
        "            <td>01</td>\n",
        "            <td>Latop</td>\n",
        "            <td>$1600</td>\n",
        "        </tr>\n",
        "        <tr>\n",
        "            <td>02</td>\n",
        "            <td>Banana</td>\n",
        "            <td>$12</td>\n",
        "        </tr>\n",
        "        <tr>\n",
        "            <td>03</td>\n",
        "            <td>PS3</td>\n",
        "            <td>$999</td>\n",
        "        </tr>\n",
        "    </tbody>\n",
        "</table>\n",
        "```\n",
        "\n",
        "<table>\n",
        "    <thead>\n",
        "        <tr>\n",
        "            <th>Id</th>\n",
        "            <th>Label</th>\n",
        "            <th>Price</th>\n",
        "        </tr>\n",
        "    </thead>\n",
        "    <tbody>\n",
        "        <tr>\n",
        "            <td>01</td>\n",
        "            <td>Latop</td>\n",
        "            <td>$1600</td>\n",
        "        </tr>\n",
        "        <tr>\n",
        "            <td>02</td>\n",
        "            <td>Banana</td>\n",
        "            <td>$12</td>\n",
        "        </tr>\n",
        "        <tr>\n",
        "            <td>03</td>\n",
        "            <td>PS3</td>\n",
        "            <td>$999</td>\n",
        "        </tr>\n",
        "    </tbody>\n",
        "</table>"
      ],
      "metadata": {
        "id": "c07GngnBxH25"
      }
    },
    {
      "cell_type": "markdown",
      "source": [
        "**Creating the table of images**\n",
        "\n",
        "```html\n",
        "<center> \n",
        "<tr> \n",
        "<td><img src=\"\" alt=\"Drawing\" style=\"height: 270px;\"/></td> \n",
        "<td><img src=\"\" alt=\"Drawing\" style=\"height: 270px;\"/></td> \n",
        "<td><img src=\"\" alt=\"Drawing\" style=\"height: 270px;\"/></td> \n",
        "</tr>\n",
        "</center>\n",
        "```\n",
        "<center>\n",
        "<tr> \n",
        "<td><img src=\"https://encrypted-tbn0.gstatic.com/images?q=tbn:ANd9GcSjRhowJqsHrS6xJMUBYIUoqtUvthLciMY-1iW_KXuREDXaGaxXE0UQj3PzE-U4DRe-S5Q&usqp=CAU\" alt=\"Drawing\" style=\"height: 270px;\"/></td> \n",
        "<td><img src=\"https://encrypted-tbn0.gstatic.com/images?q=tbn:ANd9GcSjRhowJqsHrS6xJMUBYIUoqtUvthLciMY-1iW_KXuREDXaGaxXE0UQj3PzE-U4DRe-S5Q&usqp=CAU\" alt=\"Drawing\" style=\"height: 270px;\"/></td> \n",
        "<td><img src=\"https://encrypted-tbn0.gstatic.com/images?q=tbn:ANd9GcSjRhowJqsHrS6xJMUBYIUoqtUvthLciMY-1iW_KXuREDXaGaxXE0UQj3PzE-U4DRe-S5Q&usqp=CAU\" alt=\"Drawing\" style=\"height: 270px;\"/></td> \n",
        "</tr>\n",
        "</center>"
      ],
      "metadata": {
        "id": "yStuDEcqt9yh"
      }
    },
    {
      "cell_type": "markdown",
      "source": [
        "## 13. EMOJI :)\n",
        "\n",
        "```markdown\n",
        "GitHub supports emoji!\n",
        ":+1: \n",
        ":sparkles:\n",
        ":camel:\n",
        ":tada:\n",
        ":rocket:\n",
        ":metal:\n",
        ":octocat:\n",
        "```\n",
        "\n",
        "\n",
        "> [Emoji-cheat-Sheet](https://www.webfx.com/tools/emoji-cheat-sheet/)"
      ],
      "metadata": {
        "id": "n2XQwi0N9vJD"
      }
    },
    {
      "cell_type": "markdown",
      "source": [
        "## Text\n",
        "\n",
        "```html\n",
        "<p align='center'>Centre</p>\n",
        "```\n",
        "<p align='center'>Centre</p>\n",
        "\n"
      ],
      "metadata": {
        "id": "WQaW_AcJrre9"
      }
    },
    {
      "cell_type": "markdown",
      "source": [
        "```html\n",
        "<h2>Some\n",
        "    <span style=\"color:red\">Important</span> \n",
        "</h2>\n",
        "```"
      ],
      "metadata": {
        "id": "TRDp4TH7sxgy"
      }
    },
    {
      "cell_type": "markdown",
      "source": [
        "NoteBook Title\n",
        "```html\n",
        "--- \n",
        "<strong> \n",
        "    <h1 align='center'>Title</h1> \n",
        "</strong>\n",
        "\n",
        "---\n",
        "```\n",
        "--- \n",
        "<strong> \n",
        "    <h1 align='center'>Title</h1> \n",
        "</strong>\n",
        "\n",
        "---"
      ],
      "metadata": {
        "id": "n3ZdVBhSsVxa"
      }
    },
    {
      "cell_type": "markdown",
      "source": [
        "The website will opens upon clicking the image:\n",
        "```html \n",
        "<a href=\"http://www.sololearn.com\"> \n",
        "    <img src=\"1.jpg\" alt=\"\"/> \n",
        "</a>\n",
        "```\n",
        "\n",
        "<a href=\"http://www.sololearn.com\"> \n",
        "    <img src=\"https://upload.wikimedia.org/wikipedia/commons/thumb/5/53/SoloLearn_logo.svg/1280px-SoloLearn_logo.svg.png\" alt=\"\"/> \n",
        "</a>"
      ],
      "metadata": {
        "id": "IqCGgG3esrUN"
      }
    },
    {
      "cell_type": "markdown",
      "source": [
        "**Text Color**\n",
        "\n",
        "$\\color{red}{\\textbf{Note}}$\n",
        "```\n",
        "$\\color{red}{\\textbf{Note}}$\n",
        "```"
      ],
      "metadata": {
        "id": "RR3tElAzto_K"
      }
    },
    {
      "cell_type": "markdown",
      "source": [
        "**Horizontal Rule**\n",
        "\n",
        "```<p>Reading articles on Medium is awesome.</p>\n",
        "<hr>\n",
        "<p>Sure !!</p>\n",
        "```\n",
        "<p>Reading articles on Medium is awesome.</p>\n",
        "<hr>\n",
        "<p>Sure !!</p>"
      ],
      "metadata": {
        "id": "up5l5iVFwzgJ"
      }
    },
    {
      "cell_type": "markdown",
      "source": [
        "---\n",
        "# <center><b>LATEX</b></center>\n",
        "---"
      ],
      "metadata": {
        "id": "nidRQlIGwViy"
      }
    },
    {
      "cell_type": "markdown",
      "source": [
        "**Important Notes:**\n",
        "\n",
        "1. To add **little spacing** in math mode use `\\`,\n",
        "2. To add a **new line** when in math mode use `\\\\`\n",
        "3. To display ***fraction*** use `\\frac{arg 1}{arg 2}`\n",
        "4. For power (***superscripts*** text) use `^{}`\n",
        "5. For indices (***subscripts***) use `_{}`\n",
        "6. For roots use `\\sqrt[n]{arg}` , The `[n]` is optional."
      ],
      "metadata": {
        "id": "HkigyfWFwj4a"
      }
    },
    {
      "cell_type": "markdown",
      "source": [
        "```markdown\n",
        "$\n",
        "\\frac{arg 1}{arg 2} \\\\\n",
        "$\n",
        "\n",
        "$\n",
        "x^2\\\\\n",
        "$\n",
        "\n",
        "$\n",
        "e^{i\\pi}\\\\\n",
        "$\n",
        "\n",
        "$\n",
        "A_i\\\\\n",
        "$\n",
        "\n",
        "$\n",
        "B_{ij}\\\\\n",
        "$\n",
        "\n",
        "$\n",
        "\\sqrt[n]{arg}\n",
        "$\n",
        "```\n",
        "$\n",
        "\\frac{arg 1}{arg 2} \\\\\n",
        "$\n",
        "\n",
        "$\n",
        "x^2\\\\\n",
        "$\n",
        "\n",
        "$\n",
        "e^{i\\pi}\\\\\n",
        "$\n",
        "\n",
        "$\n",
        "A_i\\\\\n",
        "$\n",
        "\n",
        "$\n",
        "B_{ij}\\\\\n",
        "$\n",
        "\n",
        "$\n",
        "\\sqrt[n]{arg}\n",
        "$\n",
        "\n",
        "add double `$$` will shift the latex to center\n",
        "\n",
        "```markdown\n",
        "$$\n",
        "\\frac{arg 1}{arg 2} \\\\\n",
        "x^2\\\\\n",
        "e^{i\\pi}\\\\\n",
        "A_i\\\\\n",
        "B_{ij}\\\\\n",
        "\\sqrt[n]{arg}\n",
        "$$\n",
        "```\n",
        "\n",
        "$$\n",
        "\\frac{arg 1}{arg 2} \\\\\n",
        "x^2\\\\\n",
        "e^{i\\pi}\\\\\n",
        "A_i\\\\\n",
        "B_{ij}\\\\\n",
        "\\sqrt[n]{arg}\n",
        "$$"
      ],
      "metadata": {
        "id": "uecVX-jf1C7i"
      }
    },
    {
      "cell_type": "markdown",
      "source": [
        "## **Greek Letters**\n",
        "\n",
        "```markdown\n",
        "$\\pi = 3.14$ , $\\alpha = \\frac{3\\pi}{4}\\, rad$\n",
        "\n",
        "$$\n",
        "\\omega = 2\\pi f \\\\\n",
        "f = \\frac{c}{\\lambda}\\\\\n",
        "\\lambda_0=\\theta^2+\\delta\\\\\n",
        "\\Delta\\lambda = \\frac{1}{\\lambda^2}\n",
        "$$\n",
        "```\n",
        "$\\pi = 3.14$ , $\\alpha = \\frac{3\\pi}{4}\\, rad$\n",
        "\n",
        "$$\n",
        "\\omega = 2\\pi f \\\\\n",
        "f = \\frac{c}{\\lambda}\\\\\n",
        "\\lambda_0=\\theta^2+\\delta\\\\\n",
        "\\Delta\\lambda = \\frac{1}{\\lambda^2}\n",
        "$$"
      ],
      "metadata": {
        "id": "B15wSP_T1wFP"
      }
    },
    {
      "cell_type": "markdown",
      "source": [
        "## **Capital Greek Letter**\n",
        "\n",
        "$$\n",
        "\\delta\\\\\n",
        "\\Delta\\\\\n",
        "\\omega\\\\\n",
        "\\Omega\\\\\n",
        "$$\n",
        "\n",
        "\n",
        "<p align='center'>\n",
        "  <a href=\"#\">\n",
        "    <img src='https://miro.medium.com/max/423/1*rvn-mNdprK7m1koOns8ilg.png'>\n",
        "  </a>\n",
        "</p>\n",
        "\n"
      ],
      "metadata": {
        "id": "cMu7OIhK3cm6"
      }
    },
    {
      "cell_type": "markdown",
      "source": [
        "## **Roman Names**\n",
        "\n",
        "```markdown\n",
        "$$\n",
        "\\sin(-\\alpha)=-\\sin(\\alpha)\\\\\n",
        "\\arccos(x)=\\arcsin(u)\\\\\n",
        "\\log_n(n)=1\\\\\n",
        "\\tan(x) = \\frac{\\sin(x)}{\\cos(x)}\n",
        "$$\n",
        "```\n",
        "$$\n",
        "\\sin(-\\alpha)=-\\sin(\\alpha)\\\\\n",
        "\\arccos(x)=\\arcsin(u)\\\\\n",
        "\\log_n(n)=1\\\\\n",
        "\\tan(x) = \\frac{\\sin(x)}{\\cos(x)}\n",
        "$$\n",
        "\n",
        "<p align='center'>\n",
        "  <a href=\"#\">\n",
        "    <img src='https://miro.medium.com/max/385/1*7dib0gZYUE3_2Ac3CClazw.png'>\n",
        "  </a>\n",
        "</p>"
      ],
      "metadata": {
        "id": "a0KMz8DC7SCX"
      }
    },
    {
      "cell_type": "markdown",
      "metadata": {
        "id": "-888LBso8HS1"
      },
      "source": [
        "## Other Symbols\n",
        "\n",
        "```markdown\n",
        "### Angles:\n",
        "- Left angle : $\\langle$\n",
        "\n",
        "- Right angle : $\\rangle$\n",
        "\n",
        "Angle between two vectors u and v\t: $\\langle \\vec{u},\\vec{v}\\rangle$\t\n",
        "\n",
        "$$ \\vec{AB} \\, \\cdot \\, \\vec{CD} =0  \\Rightarrow  \\vec{AB} \\, \\perp\\, \\vec{CD}$$\n",
        "\n",
        "### Sets and logic\n",
        "$$\\mathbb{N} \\subset \\mathbb{Z} \\subset \\mathbb{D} \\subset \\mathbb{Q} \\subset \\mathbb{R} \\subset \\mathbb{C}$$\n",
        "```\n",
        "\n",
        "### Angles:\n",
        "- Left angle : $\\langle$\n",
        "\n",
        "- Right angle : $\\rangle$\n",
        "\n",
        "Angle between two vectors u and v\t: $\\langle \\vec{u},\\vec{v}\\rangle$\t\n",
        "\n",
        "$$ \\vec{AB} \\, \\cdot \\, \\vec{CD} =0  \\Rightarrow  \\vec{AB} \\, \\perp\\, \\vec{CD}$$\n",
        "\n",
        "### Sets and logic\n",
        "$$\\mathbb{N} \\subset \\mathbb{Z} \\subset \\mathbb{D} \\subset \\mathbb{Q} \\subset \\mathbb{R} \\subset \\mathbb{C}$$"
      ]
    },
    {
      "cell_type": "markdown",
      "source": [
        "```markdown\n",
        "$\n",
        "\\rightarrow\\\\\n",
        "\\Rightarrow\n",
        "$\n",
        "```\n",
        "\n",
        "\n",
        "$\n",
        "\\rightarrow\\\\\n",
        "\\Rightarrow\n",
        "$"
      ],
      "metadata": {
        "id": "exXOF7S-tJU3"
      }
    },
    {
      "cell_type": "markdown",
      "metadata": {
        "id": "XPXiLu3IE9gO"
      },
      "source": [
        "## Vertical curly braces: \n",
        "\n",
        "```markdown\n",
        "$$\n",
        "sign(x) = \\left\\{\n",
        "    \\begin{array}\\\\\n",
        "        1 & \\mbox{if } \\ x \\in \\mathbf{N}^* \\\\\n",
        "        0 & \\mbox{if } \\ x = 0 \\\\\n",
        "        -1 & \\mbox{else.}\n",
        "    \\end{array}\n",
        "\\right.\n",
        "$$\n",
        "\n",
        "\\\\\n",
        "\n",
        "$$\n",
        " \\left.\n",
        "    \\begin{array} \\\\\n",
        "        \\alpha^2 = \\sqrt5 \\\\\n",
        "        \\alpha \\geq 0 \n",
        "    \\end{array}\n",
        "\\right \\} \\alpha = 5 \n",
        "$$\n",
        "```\n",
        "\n",
        "$$\n",
        "sign(x) = \\left\\{\n",
        "    \\begin{array}\\\\\n",
        "        1 & \\mbox{if } \\ x \\in \\mathbf{N}^* \\\\\n",
        "        0 & \\mbox{if } \\ x = 0 \\\\\n",
        "        -1 & \\mbox{else.}\n",
        "    \\end{array}\n",
        "\\right.\n",
        "$$\n",
        "\n",
        "\\\\\n",
        "\n",
        "$$\n",
        " \\left.\n",
        "    \\begin{array} \\\\\n",
        "        \\alpha^2 = \\sqrt5 \\\\\n",
        "        \\alpha \\geq 0 \n",
        "    \\end{array}\n",
        "\\right \\} \\alpha = 5 \n",
        "$$"
      ]
    },
    {
      "cell_type": "markdown",
      "metadata": {
        "id": "xzu2CyGLE9iy"
      },
      "source": [
        "## Horizontal curly braces $\\underbrace{}$\n",
        "\n",
        "```markdown\n",
        "$$\n",
        "\\underbrace{\\ln \\left( \\frac{5}{6} \\right)}_{\\simeq -0.1823}\n",
        "< \\overbrace{\\exp (2)}^{\\simeq 7.3890}\n",
        "$$\n",
        "```\n",
        "$$\n",
        "\\underbrace{\\ln \\left( \\frac{5}{6} \\right)}_{\\simeq -0.1823}\n",
        "< \\overbrace{\\exp (2)}^{\\simeq 7.3890}\n",
        "$$"
      ]
    },
    {
      "cell_type": "markdown",
      "metadata": {
        "id": "S06VqebHE9mE"
      },
      "source": [
        "## Derivate \n",
        "\n",
        "```markdown\n",
        "First order derivative : $$f'(x)$$ \n",
        "\n",
        "K-th order derivative  : $$f^{(k)}(x)$$\n",
        "\n",
        "Partial firt order derivative\t: $$\\frac{\\partial f}{\\partial x}$$\n",
        "\n",
        "Partial k-th order derivative\t: $$\\frac{\\partial^{k} f}{\\partial x^k}$$\n",
        "```\n",
        "\n",
        "First order derivative : $$f'(x)$$ \n",
        "\n",
        "K-th order derivative  : $$f^{(k)}(x)$$\n",
        "\n",
        "Partial firt order derivative\t: $$\\frac{\\partial f}{\\partial x}$$\n",
        "\n",
        "Partial k-th order derivative\t: $$\\frac{\\partial^{k} f}{\\partial x^k}$$\n",
        "\n"
      ]
    },
    {
      "cell_type": "markdown",
      "metadata": {
        "id": "9eGgqyQ4E9oC"
      },
      "source": [
        "## Limit $\\lim$\n",
        "\n",
        "```markdown\n",
        "Limit at plus infinity\t: $$\\lim_{x \\to +\\infty} f(x)$$ \n",
        "\n",
        "Limit at minus infinity\t: $$\\lim_{x \\to -\\infty} f(x)$$\t\n",
        "\n",
        "Limit at $\\alpha$  : $$\\lim_{x \\to \\alpha} f(x)$$\n",
        "\n",
        "Max : $$\\max_{x \\in [a,b]}f(x)$$\t\n",
        "\n",
        "Min : $$\\min_{x \\in [\\alpha,\\beta]}f(x)$$\t\n",
        "\n",
        "Sup : $$\\sup_{x \\in \\mathbb{R}}f(x)$$\n",
        "\n",
        "Inf : $$\\inf_{x > s}f(x)$$\n",
        "```\n",
        "\n",
        "Limit at plus infinity\t: $$\\lim_{x \\to +\\infty} f(x)$$ \n",
        "\n",
        "Limit at minus infinity\t: $$\\lim_{x \\to -\\infty} f(x)$$\t\n",
        "\n",
        "Limit at $\\alpha$  : $$\\lim_{x \\to \\alpha} f(x)$$\n",
        "\n",
        "Max : $$\\max_{x \\in [a,b]}f(x)$$\t\n",
        "\n",
        "Min : $$\\min_{x \\in [\\alpha,\\beta]}f(x)$$\t\n",
        "\n",
        "Sup : $$\\sup_{x \\in \\mathbb{R}}f(x)$$\n",
        "\n",
        "Inf : $$\\inf_{x > s}f(x)$$\t\n"
      ]
    },
    {
      "cell_type": "markdown",
      "metadata": {
        "id": "m6Q0JcCYE9qm"
      },
      "source": [
        "## Sum $\\sum$\n",
        "\n",
        "```markdown\n",
        "Sum from 0 to +inf:\n",
        "\n",
        "$$\\sum_{j=0}^{+\\infty} A_{j}$$\n",
        "\n",
        "Double sum:\n",
        "$$\\sum^k_{i=1}\\sum^{l+1}_{j=1}\\,A_i A_j$$\t\n",
        "\n",
        "\n",
        "Taylor expansion of $e^x$:\n",
        "$$ e^x  = \\sum_{k=0}^{n}\\, \\frac{x^k}{k!} + o(x^n) $$ \n",
        "```\n",
        "]\n",
        "Sum from 0 to +inf:\n",
        "\n",
        "$$\\sum_{j=0}^{+\\infty} A_{j}$$\n",
        "\n",
        "Double sum:\n",
        "$$\\sum^k_{i=1}\\sum^{l+1}_{j=1}\\,A_i A_j$$\t\n",
        "\n",
        "\n",
        "Taylor expansion of $e^x$:\n",
        "$$ e^x  = \\sum_{k=0}^{n}\\, \\frac{x^k}{k!} + o(x^n) $$ \n",
        "\n",
        "\n"
      ]
    },
    {
      "cell_type": "markdown",
      "metadata": {
        "id": "twn8CTHSE9tH"
      },
      "source": [
        "## Product $\\prod$\n",
        "\n",
        "```markdown\n",
        "\n",
        "Product:\n",
        "$$\\prod_{j=1}^k A_{\\alpha_j}$$\n",
        "\n",
        "Double product:\n",
        "$$\\prod^k_{i=1}\\prod^l_{j=1}\\,A_i A_j$$\t\n",
        "```\n",
        "\n",
        "Product:\n",
        "$$\\prod_{j=1}^k A_{\\alpha_j}$$\n",
        "\n",
        "Double product:\n",
        "$$\\prod^k_{i=1}\\prod^l_{j=1}\\,A_i A_j$$\t\n"
      ]
    },
    {
      "cell_type": "markdown",
      "metadata": {
        "id": "aYWkttHLE9vs"
      },
      "source": [
        "## Integral : $\\int$\n",
        "\n",
        "```markdown\n",
        "Simple integral:\n",
        "$$\\int_{a}^b f(x)dx$$\n",
        "\n",
        "Double integral:\n",
        "$$\\int_{a}^b\\int_{c}^d f(x,y)\\,dxdy$$\t\n",
        "\n",
        "Triple integral:\n",
        "$$\\iiint$$\t\n",
        "\n",
        "Quadruple integral:\n",
        "$$\\iiiint$$\t\n",
        "\n",
        "Multiple integral :\n",
        "$$\\idotsint$$\n",
        "\n",
        "Contour integral:\n",
        "$$\\oint$$\n",
        "``` \n",
        "\n",
        "Simple integral:\n",
        "$$\\int_{a}^b f(x)dx$$\n",
        "\n",
        "Double integral:\n",
        "$$\\int_{a}^b\\int_{c}^d f(x,y)\\,dxdy$$\t\n",
        "\n",
        "Triple integral:\n",
        "$$\\iiint$$\t\n",
        "\n",
        "Quadruple integral:\n",
        "$$\\iiiint$$\t\n",
        "\n",
        "Multiple integral :\n",
        "$$\\idotsint$$\n",
        "\n",
        "Contour integral:\n",
        "$$\\oint$$\t\n",
        "\n",
        "\n",
        "\n"
      ]
    },
    {
      "cell_type": "markdown",
      "metadata": {
        "id": "z3qGgxul048v"
      },
      "source": [
        "## Matrix \n",
        "\n",
        "```markdown\n",
        "Plain:\n",
        "\n",
        "$$\n",
        "\\begin{matrix}\n",
        "1 & 2 & 3\\\\\n",
        "a & b & c\n",
        "\\end{matrix}\n",
        "$$\n",
        "\n",
        "Round brackets:\n",
        "$$\n",
        "\\begin{pmatrix}\n",
        "1 & 2 & 3\\\\\n",
        "a & b & c\n",
        "\\end{pmatrix}\n",
        "$$\n",
        "\n",
        "Curly brackets:\n",
        "$$\n",
        "\\begin{Bmatrix}\n",
        "1 & 2 & 3\\\\\n",
        "a & b & c\n",
        "\\end{Bmatrix}\t\n",
        "$$\n",
        "\n",
        "Pipes:\n",
        "$$\n",
        "\\begin{vmatrix}\n",
        "1 & 2 & 3\\\\\n",
        "a & b & c\n",
        "\\end{vmatrix}\n",
        "$$\n",
        "\n",
        "Double pipes\n",
        "$$\n",
        "\\begin{Vmatrix}\n",
        "1 & 2 & 3\\\\\n",
        "a & b & c\n",
        "\\end{Vmatrix}\n",
        "$$\n",
        "```\n",
        "Plain:\n",
        "\n",
        "$$\n",
        "\\begin{matrix}\n",
        "1 & 2 & 3\\\\\n",
        "a & b & c\n",
        "\\end{matrix}\n",
        "$$\n",
        "\n",
        "Round brackets:\n",
        "$$\n",
        "\\begin{pmatrix}\n",
        "1 & 2 & 3\\\\\n",
        "a & b & c\n",
        "\\end{pmatrix}\n",
        "$$\n",
        "\n",
        "Curly brackets:\n",
        "$$\n",
        "\\begin{Bmatrix}\n",
        "1 & 2 & 3\\\\\n",
        "a & b & c\n",
        "\\end{Bmatrix}\t\n",
        "$$\n",
        "\n",
        "Pipes:\n",
        "$$\n",
        "\\begin{vmatrix}\n",
        "1 & 2 & 3\\\\\n",
        "a & b & c\n",
        "\\end{vmatrix}\n",
        "$$\n",
        "\n",
        "Double pipes\n",
        "$$\n",
        "\\begin{Vmatrix}\n",
        "1 & 2 & 3\\\\\n",
        "a & b & c\n",
        "\\end{Vmatrix}\n",
        "$$"
      ]
    }
  ]
}